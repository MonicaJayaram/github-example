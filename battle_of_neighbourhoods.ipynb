{
 "cells": [
  {
   "cell_type": "code",
   "execution_count": 2,
   "metadata": {},
   "outputs": [
    {
     "name": "stdout",
     "output_type": "stream",
     "text": [
      "Collecting package metadata (current_repodata.json): ...working... done\n",
      "Solving environment: ...working... done\n",
      "\n",
      "# All requested packages already installed.\n",
      "\n",
      "Collecting package metadata (current_repodata.json): ...working... done\n",
      "Solving environment: ...working... done\n",
      "\n",
      "# All requested packages already installed.\n",
      "\n",
      "Folium installed\n",
      "Libraries imported.\n"
     ]
    }
   ],
   "source": [
    "#import required libraries\n",
    "import requests \n",
    "import pandas as pd \n",
    "import numpy as np \n",
    "import random \n",
    "\n",
    "!conda install -c conda-forge geopy --yes \n",
    "from geopy.geocoders import Nominatim # module to convert an address into latitude and longitude values\n",
    "\n",
    "# libraries for displaying images\n",
    "from IPython.display import Image \n",
    "from IPython.core.display import HTML \n",
    "    \n",
    "# tranforming json file into a pandas dataframe library\n",
    "from pandas.io.json import json_normalize\n",
    "\n",
    "!conda install -c conda-forge folium=0.5.0 --yes\n",
    "import folium # plotting library\n",
    "\n",
    "print('Folium installed')\n",
    "print('Libraries imported.')"
   ]
  },
  {
   "cell_type": "code",
   "execution_count": 11,
   "metadata": {},
   "outputs": [],
   "source": [
    "#setting foursquare API variables\n",
    "CLIENT_ID='ZGTQVDILRFZ5LSHVPZPZ2L3V2ZUGLJKFCT0OGUNO0LKSOWF5'\n",
    "CLIENT_SECRET='TJVT3BWA0W2GVRNOCY5LBB5JZ24JCKNK2AIE3YFCBU4UALB2'\n",
    "VERSION='20200308'"
   ]
  },
  {
   "cell_type": "code",
   "execution_count": 4,
   "metadata": {},
   "outputs": [
    {
     "data": {
      "text/html": [
       "<div>\n",
       "<style scoped>\n",
       "    .dataframe tbody tr th:only-of-type {\n",
       "        vertical-align: middle;\n",
       "    }\n",
       "\n",
       "    .dataframe tbody tr th {\n",
       "        vertical-align: top;\n",
       "    }\n",
       "\n",
       "    .dataframe thead th {\n",
       "        text-align: right;\n",
       "    }\n",
       "</style>\n",
       "<table border=\"1\" class=\"dataframe\">\n",
       "  <thead>\n",
       "    <tr style=\"text-align: right;\">\n",
       "      <th></th>\n",
       "      <th>Borough</th>\n",
       "      <th>Neighborhood</th>\n",
       "      <th>Latitude</th>\n",
       "      <th>Longitude</th>\n",
       "    </tr>\n",
       "  </thead>\n",
       "  <tbody>\n",
       "    <tr>\n",
       "      <td>0</td>\n",
       "      <td>Bronx</td>\n",
       "      <td>Wakefield</td>\n",
       "      <td>40.894705</td>\n",
       "      <td>-73.847201</td>\n",
       "    </tr>\n",
       "    <tr>\n",
       "      <td>1</td>\n",
       "      <td>Bronx</td>\n",
       "      <td>Co-op City</td>\n",
       "      <td>40.874294</td>\n",
       "      <td>-73.829939</td>\n",
       "    </tr>\n",
       "    <tr>\n",
       "      <td>2</td>\n",
       "      <td>Bronx</td>\n",
       "      <td>Eastchester</td>\n",
       "      <td>40.887556</td>\n",
       "      <td>-73.827806</td>\n",
       "    </tr>\n",
       "    <tr>\n",
       "      <td>3</td>\n",
       "      <td>Bronx</td>\n",
       "      <td>Fieldston</td>\n",
       "      <td>40.895437</td>\n",
       "      <td>-73.905643</td>\n",
       "    </tr>\n",
       "    <tr>\n",
       "      <td>4</td>\n",
       "      <td>Bronx</td>\n",
       "      <td>Riverdale</td>\n",
       "      <td>40.890834</td>\n",
       "      <td>-73.912585</td>\n",
       "    </tr>\n",
       "  </tbody>\n",
       "</table>\n",
       "</div>"
      ],
      "text/plain": [
       "  Borough Neighborhood   Latitude  Longitude\n",
       "0   Bronx    Wakefield  40.894705 -73.847201\n",
       "1   Bronx   Co-op City  40.874294 -73.829939\n",
       "2   Bronx  Eastchester  40.887556 -73.827806\n",
       "3   Bronx    Fieldston  40.895437 -73.905643\n",
       "4   Bronx    Riverdale  40.890834 -73.912585"
      ]
     },
     "execution_count": 4,
     "metadata": {},
     "output_type": "execute_result"
    }
   ],
   "source": [
    "#Get new york data --> get the boroughs, neighbourhoods, latitude and longitude to be used for the Foursquare API URI\n",
    "ny_url='https://cocl.us/new_york_dataset'\n",
    "resp=requests.get(ny_url).json()\n",
    "   # all data is present in features label\n",
    "features=resp['features']\n",
    "    \n",
    "# define the dataframe columns\n",
    "column_names = ['Borough', 'Neighborhood', 'Latitude', 'Longitude'] \n",
    "# instantiate the dataframe\n",
    "new_york_data = pd.DataFrame(columns=column_names)\n",
    "    \n",
    "for data in features:\n",
    "    borough = data['properties']['borough'] \n",
    "    neighborhood_name = data['properties']['name']\n",
    "        \n",
    "    neighborhood_latlon = data['geometry']['coordinates']\n",
    "    neighborhood_lat = neighborhood_latlon[1]\n",
    "    neighborhood_lon = neighborhood_latlon[0]\n",
    "    \n",
    "    new_york_data = new_york_data.append({'Borough': borough,\n",
    "                                          'Neighborhood': neighborhood_name,\n",
    "                                          'Latitude': neighborhood_lat,\n",
    "                                          'Longitude': neighborhood_lon}, ignore_index=True)\n",
    "    \n",
    "new_york_data.head()"
   ]
  },
  {
   "cell_type": "code",
   "execution_count": 5,
   "metadata": {},
   "outputs": [
    {
     "data": {
      "text/plain": [
       "(306, 4)"
      ]
     },
     "execution_count": 5,
     "metadata": {},
     "output_type": "execute_result"
    }
   ],
   "source": [
    "new_york_data.shape"
   ]
  },
  {
   "cell_type": "code",
   "execution_count": 6,
   "metadata": {},
   "outputs": [
    {
     "data": {
      "text/plain": [
       "Borough\n",
       "Bronx            52\n",
       "Brooklyn         70\n",
       "Manhattan        40\n",
       "Queens           81\n",
       "Staten Island    63\n",
       "Name: Neighborhood, dtype: int64"
      ]
     },
     "execution_count": 6,
     "metadata": {},
     "output_type": "execute_result"
    }
   ],
   "source": [
    "#Number of neighbourhoods per borough\n",
    "num_neigh=new_york_data.groupby('Borough')['Neighborhood'].count()\n",
    "num_neigh"
   ]
  },
  {
   "cell_type": "code",
   "execution_count": 8,
   "metadata": {},
   "outputs": [
    {
     "data": {
      "image/png": "[encoded data removed]",
      "text/plain": [
       "<Figure size 720x400 with 1 Axes>"
      ]
     },
     "metadata": {},
     "output_type": "display_data"
    }
   ],
   "source": [
    "#plot neighbourhoods \n",
    "from matplotlib import pyplot as plt\n",
    "plt.style.use('ggplot')\n",
    "\n",
    "plt.figure(figsize=(9,5), dpi = 80)\n",
    "# title\n",
    "plt.title('Number of Neighbourhood in NYC by Borough')\n",
    "#On x-axis\n",
    "plt.xlabel('Borough', fontsize = 15)\n",
    "#On y-axis\n",
    "plt.ylabel('No.of Neighborhood', fontsize=15)\n",
    "#giving a bar plot\n",
    "num_neigh.plot(kind='bar')\n",
    "#legend\n",
    "plt.legend()\n",
    "plt.show()"
   ]
  },
  {
   "cell_type": "code",
   "execution_count": 12,
   "metadata": {},
   "outputs": [],
   "source": [
    "#Function to get venues by passing the lonigtude and latitude of each neighbourhood\n",
    "def get_venues(lat,lng):\n",
    "    \n",
    "    #set variables\n",
    "    radius=1000  #1000 metre radius of the latitude\n",
    "    LIMIT=100\n",
    "\n",
    "    #url to fetch data from foursquare api\n",
    "    url = 'https://api.foursquare.com/v2/venues/explore?&client_id={}&client_secret={}&v={}&ll={},{}&radius={}&limit={}'.format(\n",
    "            CLIENT_ID, \n",
    "            CLIENT_SECRET, \n",
    "            VERSION, \n",
    "            lat, \n",
    "            lng, \n",
    "            radius, \n",
    "            LIMIT)\n",
    "    \n",
    "    # get all the data\n",
    "    results = requests.get(url).json()\n",
    "    venue_data=results[\"response\"]['groups'][0]['items']\n",
    "    venue_details=[]\n",
    "    for row in venue_data:\n",
    "        try:\n",
    "            venue_id=row['venue']['id']\n",
    "            venue_name=row['venue']['name']\n",
    "            venue_category=row['venue']['categories'][0]['name']\n",
    "            venue_details.append([venue_id,venue_name,venue_category])\n",
    "        except KeyError:\n",
    "            pass\n",
    "        \n",
    "    column_names=['ID','Name','Category']\n",
    "    df = pd.DataFrame(venue_details,columns=column_names)\n",
    "    return df"
   ]
  },
  {
   "cell_type": "code",
   "execution_count": 14,
   "metadata": {},
   "outputs": [],
   "source": [
    "# prepare neighborhood list that contains indian restaurant\n",
    "column_names=['Borough', 'Neighborhood', 'ID','Name']\n",
    "indian_rest_ny=pd.DataFrame(columns=column_names)\n",
    "count=1\n",
    "for row in new_york_data.values.tolist():\n",
    "    Borough, Neighborhood, Latitude, Longitude=row\n",
    "    venues = get_venues(Latitude,Longitude)\n",
    "    indian_resturants=venues[venues['Category']=='Indian Restaurant']   \n",
    "    for resturant_detail in indian_resturants.values.tolist():\n",
    "        id, name , category=resturant_detail\n",
    "        indian_rest_ny = indian_rest_ny.append({'Borough': Borough,\n",
    "                                                'Neighborhood': Neighborhood, \n",
    "                                                'ID': id,\n",
    "                                                'Name' : name\n",
    "                                               }, ignore_index=True)"
   ]
  },
  {
   "cell_type": "code",
   "execution_count": 15,
   "metadata": {},
   "outputs": [
    {
     "data": {
      "text/html": [
       "<div>\n",
       "<style scoped>\n",
       "    .dataframe tbody tr th:only-of-type {\n",
       "        vertical-align: middle;\n",
       "    }\n",
       "\n",
       "    .dataframe tbody tr th {\n",
       "        vertical-align: top;\n",
       "    }\n",
       "\n",
       "    .dataframe thead th {\n",
       "        text-align: right;\n",
       "    }\n",
       "</style>\n",
       "<table border=\"1\" class=\"dataframe\">\n",
       "  <thead>\n",
       "    <tr style=\"text-align: right;\">\n",
       "      <th></th>\n",
       "      <th>Borough</th>\n",
       "      <th>Neighborhood</th>\n",
       "      <th>ID</th>\n",
       "      <th>Name</th>\n",
       "    </tr>\n",
       "  </thead>\n",
       "  <tbody>\n",
       "    <tr>\n",
       "      <td>0</td>\n",
       "      <td>Bronx</td>\n",
       "      <td>Woodlawn</td>\n",
       "      <td>4c0448d9310fc9b6bf1dc761</td>\n",
       "      <td>Curry Spot</td>\n",
       "    </tr>\n",
       "    <tr>\n",
       "      <td>1</td>\n",
       "      <td>Bronx</td>\n",
       "      <td>Parkchester</td>\n",
       "      <td>4c194631838020a13e78e561</td>\n",
       "      <td>Melanies Roti Bar And Grill</td>\n",
       "    </tr>\n",
       "    <tr>\n",
       "      <td>2</td>\n",
       "      <td>Bronx</td>\n",
       "      <td>Parkchester</td>\n",
       "      <td>55dfa36a498e164ef19bef7b</td>\n",
       "      <td>Premium Sweets &amp; Restaurant</td>\n",
       "    </tr>\n",
       "    <tr>\n",
       "      <td>3</td>\n",
       "      <td>Bronx</td>\n",
       "      <td>Spuyten Duyvil</td>\n",
       "      <td>4c04544df423a593ac83d116</td>\n",
       "      <td>Cumin Indian Cuisine</td>\n",
       "    </tr>\n",
       "    <tr>\n",
       "      <td>4</td>\n",
       "      <td>Bronx</td>\n",
       "      <td>Concourse</td>\n",
       "      <td>551b7f75498e86c00a0ed2e1</td>\n",
       "      <td>Hungry Bird</td>\n",
       "    </tr>\n",
       "  </tbody>\n",
       "</table>\n",
       "</div>"
      ],
      "text/plain": [
       "  Borough    Neighborhood                        ID  \\\n",
       "0   Bronx        Woodlawn  4c0448d9310fc9b6bf1dc761   \n",
       "1   Bronx     Parkchester  4c194631838020a13e78e561   \n",
       "2   Bronx     Parkchester  55dfa36a498e164ef19bef7b   \n",
       "3   Bronx  Spuyten Duyvil  4c04544df423a593ac83d116   \n",
       "4   Bronx       Concourse  551b7f75498e86c00a0ed2e1   \n",
       "\n",
       "                          Name  \n",
       "0                   Curry Spot  \n",
       "1  Melanies Roti Bar And Grill  \n",
       "2  Premium Sweets & Restaurant  \n",
       "3         Cumin Indian Cuisine  \n",
       "4                  Hungry Bird  "
      ]
     },
     "execution_count": 15,
     "metadata": {},
     "output_type": "execute_result"
    }
   ],
   "source": [
    "indian_rest_ny.head()"
   ]
  },
  {
   "cell_type": "code",
   "execution_count": 16,
   "metadata": {},
   "outputs": [
    {
     "data": {
      "text/plain": [
       "(153, 4)"
      ]
     },
     "execution_count": 16,
     "metadata": {},
     "output_type": "execute_result"
    }
   ],
   "source": [
    "indian_rest_ny.shape"
   ]
  },
  {
   "cell_type": "code",
   "execution_count": 17,
   "metadata": {},
   "outputs": [],
   "source": [
    "indian_rest_ny_new=pd.DataFrame.copy(indian_rest_ny, deep = True)"
   ]
  },
  {
   "cell_type": "code",
   "execution_count": 18,
   "metadata": {},
   "outputs": [
    {
     "data": {
      "text/plain": [
       "Borough\n",
       "Bronx             8\n",
       "Brooklyn         22\n",
       "Manhattan        41\n",
       "Queens           73\n",
       "Staten Island     9\n",
       "Name: Name, dtype: int64"
      ]
     },
     "execution_count": 18,
     "metadata": {},
     "output_type": "execute_result"
    }
   ],
   "source": [
    "#Number of neighbourhoods per borough\n",
    "num_indian_res=indian_rest_ny_new.groupby('Borough')['Name'].count()\n",
    "num_indian_res"
   ]
  },
  {
   "cell_type": "code",
   "execution_count": 23,
   "metadata": {},
   "outputs": [
    {
     "data": {
      "image/png": "[encoded data removed]",
      "text/plain": [
       "<Figure size 720x400 with 1 Axes>"
      ]
     },
     "metadata": {},
     "output_type": "display_data"
    }
   ],
   "source": [
    "#plot neighbourhoods \n",
    "from matplotlib import pyplot as plt\n",
    "plt.style.use('ggplot')\n",
    "\n",
    "plt.figure(figsize=(9,5), dpi = 80)\n",
    "# title\n",
    "plt.title('Number of Indian restaurants in NYC by Borough')\n",
    "#On x-axis\n",
    "plt.xlabel('Borough', fontsize = 15)\n",
    "#On y-axis\n",
    "plt.ylabel('No.of Indian restaurants', fontsize=15)\n",
    "#giving a bar plot\n",
    "num_indian_res.plot(kind='bar')\n",
    "#legend\n",
    "plt.legend()\n",
    "plt.show()"
   ]
  },
  {
   "cell_type": "code",
   "execution_count": 20,
   "metadata": {},
   "outputs": [
    {
     "data": {
      "text/html": [
       "<div>\n",
       "<style scoped>\n",
       "    .dataframe tbody tr th:only-of-type {\n",
       "        vertical-align: middle;\n",
       "    }\n",
       "\n",
       "    .dataframe tbody tr th {\n",
       "        vertical-align: top;\n",
       "    }\n",
       "\n",
       "    .dataframe thead th {\n",
       "        text-align: right;\n",
       "    }\n",
       "</style>\n",
       "<table border=\"1\" class=\"dataframe\">\n",
       "  <thead>\n",
       "    <tr style=\"text-align: right;\">\n",
       "      <th></th>\n",
       "      <th>Borough</th>\n",
       "      <th>Neighborhood</th>\n",
       "      <th>ID</th>\n",
       "      <th>Name</th>\n",
       "    </tr>\n",
       "  </thead>\n",
       "  <tbody>\n",
       "    <tr>\n",
       "      <td>0</td>\n",
       "      <td>Bronx</td>\n",
       "      <td>Woodlawn</td>\n",
       "      <td>4c0448d9310fc9b6bf1dc761</td>\n",
       "      <td>Curry Spot</td>\n",
       "    </tr>\n",
       "    <tr>\n",
       "      <td>1</td>\n",
       "      <td>Bronx</td>\n",
       "      <td>Parkchester</td>\n",
       "      <td>4c194631838020a13e78e561</td>\n",
       "      <td>Melanies Roti Bar And Grill</td>\n",
       "    </tr>\n",
       "    <tr>\n",
       "      <td>2</td>\n",
       "      <td>Bronx</td>\n",
       "      <td>Parkchester</td>\n",
       "      <td>55dfa36a498e164ef19bef7b</td>\n",
       "      <td>Premium Sweets &amp; Restaurant</td>\n",
       "    </tr>\n",
       "    <tr>\n",
       "      <td>3</td>\n",
       "      <td>Bronx</td>\n",
       "      <td>Spuyten Duyvil</td>\n",
       "      <td>4c04544df423a593ac83d116</td>\n",
       "      <td>Cumin Indian Cuisine</td>\n",
       "    </tr>\n",
       "    <tr>\n",
       "      <td>4</td>\n",
       "      <td>Bronx</td>\n",
       "      <td>Concourse</td>\n",
       "      <td>551b7f75498e86c00a0ed2e1</td>\n",
       "      <td>Hungry Bird</td>\n",
       "    </tr>\n",
       "  </tbody>\n",
       "</table>\n",
       "</div>"
      ],
      "text/plain": [
       "  Borough    Neighborhood                        ID  \\\n",
       "0   Bronx        Woodlawn  4c0448d9310fc9b6bf1dc761   \n",
       "1   Bronx     Parkchester  4c194631838020a13e78e561   \n",
       "2   Bronx     Parkchester  55dfa36a498e164ef19bef7b   \n",
       "3   Bronx  Spuyten Duyvil  4c04544df423a593ac83d116   \n",
       "4   Bronx       Concourse  551b7f75498e86c00a0ed2e1   \n",
       "\n",
       "                          Name  \n",
       "0                   Curry Spot  \n",
       "1  Melanies Roti Bar And Grill  \n",
       "2  Premium Sweets & Restaurant  \n",
       "3         Cumin Indian Cuisine  \n",
       "4                  Hungry Bird  "
      ]
     },
     "execution_count": 20,
     "metadata": {},
     "output_type": "execute_result"
    }
   ],
   "source": [
    "indian_rest_ny_new.head()"
   ]
  },
  {
   "cell_type": "code",
   "execution_count": 21,
   "metadata": {},
   "outputs": [],
   "source": [
    "#get venue details\n",
    "def get_venue_details(venue_id):\n",
    "\n",
    "    #url to fetch data from foursquare api\n",
    "    url = 'https://api.foursquare.com/v2/venues/{}?&client_id={}&client_secret={}&v={}'.format(\n",
    "            venue_id,\n",
    "            CLIENT_ID, \n",
    "            CLIENT_SECRET, \n",
    "            VERSION)\n",
    "    \n",
    "    # get all the data\n",
    "    results = requests.get(url).json()\n",
    "    venue_data=results['response']['venue']\n",
    "    venue_details=[]\n",
    "    try:\n",
    "        venue_id=venue_data['id']\n",
    "        venue_name=venue_data['name']\n",
    "        venue_likes=venue_data['likes']['count']\n",
    "        venue_rating=venue_data['rating']\n",
    "        venue_tips=venue_data['tips']['count']\n",
    "        venue_details.append([venue_id,venue_name,venue_likes,venue_rating,venue_tips])\n",
    "    except KeyError:\n",
    "        pass\n",
    "        \n",
    "    column_names=['ID','Name','Likes','Rating','Tips']\n",
    "    df = pd.DataFrame(venue_details,columns=column_names)\n",
    "    return df"
   ]
  },
  {
   "cell_type": "code",
   "execution_count": 22,
   "metadata": {},
   "outputs": [],
   "source": [
    "column_names=['Borough', 'Neighborhood', 'ID','Name','Likes','Rating','Tips']\n",
    "indian_rest_stats_ny=pd.DataFrame(columns=column_names)\n",
    "for row in indian_rest_ny.values.tolist():\n",
    "    Borough,Neighborhood,ID,Name=row\n",
    "    try:\n",
    "        venue_details=get_venue_details(ID)\n",
    "        id,name,likes,rating,tips=venue_details.values.tolist()[0]\n",
    "    except (IndexError, KeyError) as e:\n",
    "        # we will assign 0 value for these resturants as they may have been \n",
    "        #recently opened or details does not exist in FourSquare Database\n",
    "        id,name,likes,rating,tips=[0]*5\n",
    "    indian_rest_stats_ny = indian_rest_stats_ny.append({'Borough': Borough,\n",
    "                                                'Neighborhood': Neighborhood, \n",
    "                                                'ID': id,\n",
    "                                                'Name' : name,\n",
    "                                                'Likes' : likes,\n",
    "                                                'Rating' : rating,\n",
    "                                                'Tips' : tips\n",
    "                                               }, ignore_index=True)"
   ]
  },
  {
   "cell_type": "code",
   "execution_count": 24,
   "metadata": {},
   "outputs": [
    {
     "data": {
      "text/html": [
       "<div>\n",
       "<style scoped>\n",
       "    .dataframe tbody tr th:only-of-type {\n",
       "        vertical-align: middle;\n",
       "    }\n",
       "\n",
       "    .dataframe tbody tr th {\n",
       "        vertical-align: top;\n",
       "    }\n",
       "\n",
       "    .dataframe thead th {\n",
       "        text-align: right;\n",
       "    }\n",
       "</style>\n",
       "<table border=\"1\" class=\"dataframe\">\n",
       "  <thead>\n",
       "    <tr style=\"text-align: right;\">\n",
       "      <th></th>\n",
       "      <th>Borough</th>\n",
       "      <th>Neighborhood</th>\n",
       "      <th>ID</th>\n",
       "      <th>Name</th>\n",
       "      <th>Likes</th>\n",
       "      <th>Rating</th>\n",
       "      <th>Tips</th>\n",
       "    </tr>\n",
       "  </thead>\n",
       "  <tbody>\n",
       "    <tr>\n",
       "      <td>0</td>\n",
       "      <td>Bronx</td>\n",
       "      <td>Woodlawn</td>\n",
       "      <td>4c0448d9310fc9b6bf1dc761</td>\n",
       "      <td>Curry Spot</td>\n",
       "      <td>5</td>\n",
       "      <td>8.0</td>\n",
       "      <td>10</td>\n",
       "    </tr>\n",
       "    <tr>\n",
       "      <td>1</td>\n",
       "      <td>Bronx</td>\n",
       "      <td>Parkchester</td>\n",
       "      <td>4c194631838020a13e78e561</td>\n",
       "      <td>Melanies Roti Bar And Grill</td>\n",
       "      <td>3</td>\n",
       "      <td>6.3</td>\n",
       "      <td>2</td>\n",
       "    </tr>\n",
       "    <tr>\n",
       "      <td>2</td>\n",
       "      <td>Bronx</td>\n",
       "      <td>Parkchester</td>\n",
       "      <td>0</td>\n",
       "      <td>0</td>\n",
       "      <td>0</td>\n",
       "      <td>0.0</td>\n",
       "      <td>0</td>\n",
       "    </tr>\n",
       "    <tr>\n",
       "      <td>3</td>\n",
       "      <td>Bronx</td>\n",
       "      <td>Spuyten Duyvil</td>\n",
       "      <td>4c04544df423a593ac83d116</td>\n",
       "      <td>Cumin Indian Cuisine</td>\n",
       "      <td>13</td>\n",
       "      <td>5.9</td>\n",
       "      <td>9</td>\n",
       "    </tr>\n",
       "    <tr>\n",
       "      <td>4</td>\n",
       "      <td>Bronx</td>\n",
       "      <td>Concourse</td>\n",
       "      <td>551b7f75498e86c00a0ed2e1</td>\n",
       "      <td>Hungry Bird</td>\n",
       "      <td>8</td>\n",
       "      <td>6.7</td>\n",
       "      <td>3</td>\n",
       "    </tr>\n",
       "  </tbody>\n",
       "</table>\n",
       "</div>"
      ],
      "text/plain": [
       "  Borough    Neighborhood                        ID  \\\n",
       "0   Bronx        Woodlawn  4c0448d9310fc9b6bf1dc761   \n",
       "1   Bronx     Parkchester  4c194631838020a13e78e561   \n",
       "2   Bronx     Parkchester                         0   \n",
       "3   Bronx  Spuyten Duyvil  4c04544df423a593ac83d116   \n",
       "4   Bronx       Concourse  551b7f75498e86c00a0ed2e1   \n",
       "\n",
       "                          Name Likes  Rating Tips  \n",
       "0                   Curry Spot     5     8.0   10  \n",
       "1  Melanies Roti Bar And Grill     3     6.3    2  \n",
       "2                            0     0     0.0    0  \n",
       "3         Cumin Indian Cuisine    13     5.9    9  \n",
       "4                  Hungry Bird     8     6.7    3  "
      ]
     },
     "execution_count": 24,
     "metadata": {},
     "output_type": "execute_result"
    }
   ],
   "source": [
    "indian_rest_stats_ny.head()"
   ]
  },
  {
   "cell_type": "code",
   "execution_count": 25,
   "metadata": {},
   "outputs": [],
   "source": [
    "indian_rest_stats_new =indian_rest_stats_ny[indian_rest_stats_ny.ID !=0 ]"
   ]
  },
  {
   "cell_type": "code",
   "execution_count": 26,
   "metadata": {},
   "outputs": [
    {
     "data": {
      "text/plain": [
       "(48, 7)"
      ]
     },
     "execution_count": 26,
     "metadata": {},
     "output_type": "execute_result"
    }
   ],
   "source": [
    "indian_rest_stats_new.shape"
   ]
  },
  {
   "cell_type": "code",
   "execution_count": 27,
   "metadata": {},
   "outputs": [
    {
     "data": {
      "image/png": "[encoded data removed]",
      "text/plain": [
       "<Figure size 900x500 with 1 Axes>"
      ]
     },
     "metadata": {},
     "output_type": "display_data"
    }
   ],
   "source": [
    "#plot indian restaurants whose stats are available in Foursquare\n",
    "plt.style.use('ggplot')\n",
    "\n",
    "plt.figure(figsize=(9,5), dpi = 100)\n",
    "# title\n",
    "plt.title('Number of Indian Restaurants in NYC by Borough whose stats data is available in Foursquare')\n",
    "#On x-axis\n",
    "plt.xlabel('Borough', fontsize = 15)\n",
    "#On y-axis\n",
    "plt.ylabel('No.of Indian Restaurant', fontsize=15)\n",
    "#giving a bar plot\n",
    "indian_rest_stats_new.groupby('Borough')['ID'].count().plot(kind='bar')\n",
    "#legend\n",
    "plt.legend()\n",
    "#displays the plot\n",
    "plt.show()"
   ]
  },
  {
   "cell_type": "code",
   "execution_count": 28,
   "metadata": {},
   "outputs": [],
   "source": [
    "indian_res_rating_8 =indian_rest_stats_new[indian_rest_stats_new['Rating']>8.0]"
   ]
  },
  {
   "cell_type": "code",
   "execution_count": 29,
   "metadata": {},
   "outputs": [
    {
     "data": {
      "image/png": "[encoded data removed]",
      "text/plain": [
       "<Figure size 900x500 with 1 Axes>"
      ]
     },
     "metadata": {},
     "output_type": "display_data"
    }
   ],
   "source": [
    "#Plotting number of restaurnts per Borough having a Rating > 8\n",
    "plt.figure(figsize=(9,5), dpi = 100)\n",
    "# title. \n",
    "plt.title('Number of Indian Restaurant in each  NYC Borough having Rating > 8')\n",
    "#On x-axis\n",
    "plt.xlabel('Borough', fontsize = 15)\n",
    "#On y-axis\n",
    "plt.ylabel('Number of restaurants', fontsize=15)\n",
    "#giving a bar plot\n",
    "indian_res_rating_8.groupby('Borough')['Rating'].count().plot(kind='bar')\n",
    "#legend\n",
    "plt.legend()\n",
    "#displays the plot\n",
    "plt.show()"
   ]
  },
  {
   "cell_type": "code",
   "execution_count": 30,
   "metadata": {},
   "outputs": [],
   "source": [
    "indian_res_top_10 =indian_res_rating_8.sort_values(by=['Likes','Tips'], ascending=False).head(10)"
   ]
  },
  {
   "cell_type": "code",
   "execution_count": 31,
   "metadata": {},
   "outputs": [
    {
     "data": {
      "text/html": [
       "<div>\n",
       "<style scoped>\n",
       "    .dataframe tbody tr th:only-of-type {\n",
       "        vertical-align: middle;\n",
       "    }\n",
       "\n",
       "    .dataframe tbody tr th {\n",
       "        vertical-align: top;\n",
       "    }\n",
       "\n",
       "    .dataframe thead th {\n",
       "        text-align: right;\n",
       "    }\n",
       "</style>\n",
       "<table border=\"1\" class=\"dataframe\">\n",
       "  <thead>\n",
       "    <tr style=\"text-align: right;\">\n",
       "      <th></th>\n",
       "      <th>Borough</th>\n",
       "      <th>Neighborhood</th>\n",
       "      <th>ID</th>\n",
       "      <th>Name</th>\n",
       "      <th>Likes</th>\n",
       "      <th>Rating</th>\n",
       "      <th>Tips</th>\n",
       "    </tr>\n",
       "  </thead>\n",
       "  <tbody>\n",
       "    <tr>\n",
       "      <td>40</td>\n",
       "      <td>Manhattan</td>\n",
       "      <td>Tribeca</td>\n",
       "      <td>4bbb9dbded7776b0e1ad3e51</td>\n",
       "      <td>Tamarind TriBeCa</td>\n",
       "      <td>590</td>\n",
       "      <td>9.1</td>\n",
       "      <td>148</td>\n",
       "    </tr>\n",
       "    <tr>\n",
       "      <td>49</td>\n",
       "      <td>Manhattan</td>\n",
       "      <td>Gramercy</td>\n",
       "      <td>4a70a75bf964a52016d81fe3</td>\n",
       "      <td>Bhatti Indian Grill</td>\n",
       "      <td>421</td>\n",
       "      <td>8.7</td>\n",
       "      <td>160</td>\n",
       "    </tr>\n",
       "    <tr>\n",
       "      <td>32</td>\n",
       "      <td>Manhattan</td>\n",
       "      <td>Yorkville</td>\n",
       "      <td>5272ca4511d22488f6895caf</td>\n",
       "      <td>Drunken Munkey</td>\n",
       "      <td>208</td>\n",
       "      <td>8.5</td>\n",
       "      <td>61</td>\n",
       "    </tr>\n",
       "    <tr>\n",
       "      <td>33</td>\n",
       "      <td>Manhattan</td>\n",
       "      <td>Roosevelt Island</td>\n",
       "      <td>4fe4fb50c2eee335e4fea69d</td>\n",
       "      <td>Moti Mahal Delux</td>\n",
       "      <td>186</td>\n",
       "      <td>8.4</td>\n",
       "      <td>83</td>\n",
       "    </tr>\n",
       "    <tr>\n",
       "      <td>42</td>\n",
       "      <td>Manhattan</td>\n",
       "      <td>West Village</td>\n",
       "      <td>591794df2be42556988e4a8e</td>\n",
       "      <td>Rahi</td>\n",
       "      <td>115</td>\n",
       "      <td>8.7</td>\n",
       "      <td>24</td>\n",
       "    </tr>\n",
       "    <tr>\n",
       "      <td>38</td>\n",
       "      <td>Manhattan</td>\n",
       "      <td>Chelsea</td>\n",
       "      <td>4b4aab62f964a520978c26e3</td>\n",
       "      <td>Dil-e Punjab Deli</td>\n",
       "      <td>108</td>\n",
       "      <td>8.7</td>\n",
       "      <td>44</td>\n",
       "    </tr>\n",
       "    <tr>\n",
       "      <td>35</td>\n",
       "      <td>Manhattan</td>\n",
       "      <td>Upper West Side</td>\n",
       "      <td>42489a80f964a5208b201fe3</td>\n",
       "      <td>Swagat</td>\n",
       "      <td>106</td>\n",
       "      <td>8.4</td>\n",
       "      <td>39</td>\n",
       "    </tr>\n",
       "    <tr>\n",
       "      <td>22</td>\n",
       "      <td>Brooklyn</td>\n",
       "      <td>North Side</td>\n",
       "      <td>5631511b498e3d6d7e0a4df0</td>\n",
       "      <td>Tikka Indian Grill</td>\n",
       "      <td>95</td>\n",
       "      <td>8.5</td>\n",
       "      <td>29</td>\n",
       "    </tr>\n",
       "    <tr>\n",
       "      <td>23</td>\n",
       "      <td>Brooklyn</td>\n",
       "      <td>South Side</td>\n",
       "      <td>5631511b498e3d6d7e0a4df0</td>\n",
       "      <td>Tikka Indian Grill</td>\n",
       "      <td>95</td>\n",
       "      <td>8.5</td>\n",
       "      <td>29</td>\n",
       "    </tr>\n",
       "    <tr>\n",
       "      <td>16</td>\n",
       "      <td>Brooklyn</td>\n",
       "      <td>Prospect Lefferts Gardens</td>\n",
       "      <td>4bb93b70cf2fc9b6fe64a002</td>\n",
       "      <td>Gandhi Fine Indian Cuisine</td>\n",
       "      <td>81</td>\n",
       "      <td>8.6</td>\n",
       "      <td>47</td>\n",
       "    </tr>\n",
       "  </tbody>\n",
       "</table>\n",
       "</div>"
      ],
      "text/plain": [
       "      Borough               Neighborhood                        ID  \\\n",
       "40  Manhattan                    Tribeca  4bbb9dbded7776b0e1ad3e51   \n",
       "49  Manhattan                   Gramercy  4a70a75bf964a52016d81fe3   \n",
       "32  Manhattan                  Yorkville  5272ca4511d22488f6895caf   \n",
       "33  Manhattan           Roosevelt Island  4fe4fb50c2eee335e4fea69d   \n",
       "42  Manhattan               West Village  591794df2be42556988e4a8e   \n",
       "38  Manhattan                    Chelsea  4b4aab62f964a520978c26e3   \n",
       "35  Manhattan            Upper West Side  42489a80f964a5208b201fe3   \n",
       "22   Brooklyn                 North Side  5631511b498e3d6d7e0a4df0   \n",
       "23   Brooklyn                 South Side  5631511b498e3d6d7e0a4df0   \n",
       "16   Brooklyn  Prospect Lefferts Gardens  4bb93b70cf2fc9b6fe64a002   \n",
       "\n",
       "                          Name Likes  Rating Tips  \n",
       "40            Tamarind TriBeCa   590     9.1  148  \n",
       "49         Bhatti Indian Grill   421     8.7  160  \n",
       "32              Drunken Munkey   208     8.5   61  \n",
       "33            Moti Mahal Delux   186     8.4   83  \n",
       "42                        Rahi   115     8.7   24  \n",
       "38           Dil-e Punjab Deli   108     8.7   44  \n",
       "35                      Swagat   106     8.4   39  \n",
       "22          Tikka Indian Grill    95     8.5   29  \n",
       "23          Tikka Indian Grill    95     8.5   29  \n",
       "16  Gandhi Fine Indian Cuisine    81     8.6   47  "
      ]
     },
     "execution_count": 31,
     "metadata": {},
     "output_type": "execute_result"
    }
   ],
   "source": [
    "indian_res_top_10"
   ]
  },
  {
   "cell_type": "code",
   "execution_count": 32,
   "metadata": {},
   "outputs": [],
   "source": [
    "ny_neighborhood_stats =pd.merge(indian_res_rating_8,new_york_data, on='Neighborhood')"
   ]
  },
  {
   "cell_type": "code",
   "execution_count": 33,
   "metadata": {},
   "outputs": [],
   "source": [
    "ny_neighborhood_stats.rename(columns={\"Borough_x\" : \"Borough\"}, inplace=True)"
   ]
  },
  {
   "cell_type": "code",
   "execution_count": 34,
   "metadata": {},
   "outputs": [],
   "source": [
    "ny_neighborhood_stats.drop(columns='Borough_y', inplace=True)"
   ]
  },
  {
   "cell_type": "code",
   "execution_count": 35,
   "metadata": {},
   "outputs": [
    {
     "data": {
      "text/html": [
       "<div>\n",
       "<style scoped>\n",
       "    .dataframe tbody tr th:only-of-type {\n",
       "        vertical-align: middle;\n",
       "    }\n",
       "\n",
       "    .dataframe tbody tr th {\n",
       "        vertical-align: top;\n",
       "    }\n",
       "\n",
       "    .dataframe thead th {\n",
       "        text-align: right;\n",
       "    }\n",
       "</style>\n",
       "<table border=\"1\" class=\"dataframe\">\n",
       "  <thead>\n",
       "    <tr style=\"text-align: right;\">\n",
       "      <th></th>\n",
       "      <th>Borough</th>\n",
       "      <th>Neighborhood</th>\n",
       "      <th>ID</th>\n",
       "      <th>Name</th>\n",
       "      <th>Likes</th>\n",
       "      <th>Rating</th>\n",
       "      <th>Tips</th>\n",
       "      <th>Latitude</th>\n",
       "      <th>Longitude</th>\n",
       "    </tr>\n",
       "  </thead>\n",
       "  <tbody>\n",
       "    <tr>\n",
       "      <td>0</td>\n",
       "      <td>Brooklyn</td>\n",
       "      <td>Bay Ridge</td>\n",
       "      <td>4b5a4dc8f964a520a2bb28e3</td>\n",
       "      <td>Taj Mahal</td>\n",
       "      <td>38</td>\n",
       "      <td>8.3</td>\n",
       "      <td>26</td>\n",
       "      <td>40.625801</td>\n",
       "      <td>-74.030621</td>\n",
       "    </tr>\n",
       "    <tr>\n",
       "      <td>1</td>\n",
       "      <td>Brooklyn</td>\n",
       "      <td>East Flatbush</td>\n",
       "      <td>512a9ea9e4b004fb8eeb84e5</td>\n",
       "      <td>Silver Krust</td>\n",
       "      <td>12</td>\n",
       "      <td>8.1</td>\n",
       "      <td>3</td>\n",
       "      <td>40.641718</td>\n",
       "      <td>-73.936103</td>\n",
       "    </tr>\n",
       "    <tr>\n",
       "      <td>2</td>\n",
       "      <td>Brooklyn</td>\n",
       "      <td>Fort Greene</td>\n",
       "      <td>57596dad498e732300496b23</td>\n",
       "      <td>Dosa Royale</td>\n",
       "      <td>75</td>\n",
       "      <td>8.7</td>\n",
       "      <td>22</td>\n",
       "      <td>40.688527</td>\n",
       "      <td>-73.972906</td>\n",
       "    </tr>\n",
       "    <tr>\n",
       "      <td>3</td>\n",
       "      <td>Brooklyn</td>\n",
       "      <td>Clinton Hill</td>\n",
       "      <td>57596dad498e732300496b23</td>\n",
       "      <td>Dosa Royale</td>\n",
       "      <td>75</td>\n",
       "      <td>8.7</td>\n",
       "      <td>22</td>\n",
       "      <td>40.693229</td>\n",
       "      <td>-73.967843</td>\n",
       "    </tr>\n",
       "    <tr>\n",
       "      <td>4</td>\n",
       "      <td>Brooklyn</td>\n",
       "      <td>Prospect Lefferts Gardens</td>\n",
       "      <td>4bb93b70cf2fc9b6fe64a002</td>\n",
       "      <td>Gandhi Fine Indian Cuisine</td>\n",
       "      <td>81</td>\n",
       "      <td>8.6</td>\n",
       "      <td>47</td>\n",
       "      <td>40.658420</td>\n",
       "      <td>-73.954899</td>\n",
       "    </tr>\n",
       "  </tbody>\n",
       "</table>\n",
       "</div>"
      ],
      "text/plain": [
       "    Borough               Neighborhood                        ID  \\\n",
       "0  Brooklyn                  Bay Ridge  4b5a4dc8f964a520a2bb28e3   \n",
       "1  Brooklyn              East Flatbush  512a9ea9e4b004fb8eeb84e5   \n",
       "2  Brooklyn                Fort Greene  57596dad498e732300496b23   \n",
       "3  Brooklyn               Clinton Hill  57596dad498e732300496b23   \n",
       "4  Brooklyn  Prospect Lefferts Gardens  4bb93b70cf2fc9b6fe64a002   \n",
       "\n",
       "                         Name Likes  Rating Tips   Latitude  Longitude  \n",
       "0                   Taj Mahal    38     8.3   26  40.625801 -74.030621  \n",
       "1                Silver Krust    12     8.1    3  40.641718 -73.936103  \n",
       "2                 Dosa Royale    75     8.7   22  40.688527 -73.972906  \n",
       "3                 Dosa Royale    75     8.7   22  40.693229 -73.967843  \n",
       "4  Gandhi Fine Indian Cuisine    81     8.6   47  40.658420 -73.954899  "
      ]
     },
     "execution_count": 35,
     "metadata": {},
     "output_type": "execute_result"
    }
   ],
   "source": [
    "ny_neighborhood_stats.head()"
   ]
  },
  {
   "cell_type": "code",
   "execution_count": 36,
   "metadata": {},
   "outputs": [
    {
     "data": {
      "text/html": [
       "<div style=\"width:100%;\"><div style=\"position:relative;width:100%;height:0;padding-bottom:60%;\"><iframe src=\"about:blank\" style=\"position:absolute;width:100%;height:100%;left:0;top:0;border:none !important;\" data-html=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 onload=\"this.contentDocument.open();this.contentDocument.write(atob(this.getAttribute('data-html')));this.contentDocument.close();\" allowfullscreen webkitallowfullscreen mozallowfullscreen></iframe></div></div>"
      ],
      "text/plain": [
       "<folium.folium.Map at 0x8df0d754c8>"
      ]
     },
     "execution_count": 36,
     "metadata": {},
     "output_type": "execute_result"
    }
   ],
   "source": [
    "# create map and display it\n",
    "ny_map = folium.Map(location=(40.693943, -73.985880), zoom_start=12)\n",
    "\n",
    "# instantiate a feature group for the incidents in the dataframe\n",
    "markers = folium.map.FeatureGroup()\n",
    "\n",
    "# loop through to  add each to the marker feature group\n",
    "for lat, lng, in ny_neighborhood_stats[['Latitude','Longitude']].values:\n",
    "    markers.add_child(\n",
    "        folium.CircleMarker(\n",
    "            [lat, lng],\n",
    "            radius=10, # define how big you want the circle markers to be\n",
    "            color='yellow',\n",
    "            fill=True,\n",
    "            fill_color='blue',\n",
    "            fill_opacity=0.6\n",
    "        )\n",
    "    )\n",
    "\n",
    "ny_neighborhood_stats['Label']=ny_neighborhood_stats['Neighborhood']+', '+ny_neighborhood_stats['Borough']+','+ny_neighborhood_stats['Name']+'('+ny_neighborhood_stats['Rating'].map(str)+')'\n",
    "\n",
    "\n",
    "for lat, lng, label in ny_neighborhood_stats[['Latitude','Longitude','Label']].values:\n",
    "    folium.Marker([lat, lng], popup=label).add_to(ny_map)        \n",
    "# add to map\n",
    "ny_map.add_child(markers)"
   ]
  }
 ],
 "metadata": {
  "kernelspec": {
   "display_name": "Python 3",
   "language": "python",
   "name": "python3"
  },
  "language_info": {
   "codemirror_mode": {
    "name": "ipython",
    "version": 3
   },
   "file_extension": ".py",
   "mimetype": "text/x-python",
   "name": "python",
   "nbconvert_exporter": "python",
   "pygments_lexer": "ipython3",
   "version": "3.7.4"
  }
 },
 "nbformat": 4,
 "nbformat_minor": 2
}
